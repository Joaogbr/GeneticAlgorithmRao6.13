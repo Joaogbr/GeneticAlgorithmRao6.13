{
 "cells": [
  {
   "cell_type": "code",
   "execution_count": 19,
   "id": "a177bb6d-1907-4698-834a-e9b56164e819",
   "metadata": {},
   "outputs": [
    {
     "name": "stdout",
     "output_type": "stream",
     "text": [
      "Parâmetros da melhor solução : [353278.43 0.043771]\n",
      "Valor da avaliação da melhor solução : -355708.2286267128\n"
     ]
    },
    {
     "data": {
      "image/png": "[encoded data removed]",
      "text/plain": [
       "<Figure size 432x288 with 1 Axes>"
      ]
     },
     "metadata": {
      "needs_background": "light"
     },
     "output_type": "display_data"
    },
    {
     "name": "stdout",
     "output_type": "stream",
     "text": [
      "Melhor avaliação atingida após 75 gerações.\n",
      "Tempo de execução: 0.292022705078125 s\n"
     ]
    }
   ],
   "source": [
    "import pygad\n",
    "import numpy as np\n",
    "import math\n",
    "import time\n",
    "from matplotlib import pyplot as plt\n",
    "\n",
    "\"\"\"\n",
    "Problema de otimizacao nao linear:\n",
    "    Min W = 500*x1 + 2*10^6*x2 + 5*10^14/(x1^2*x2)\n",
    "    s.a. (x1,x2) >= 0\n",
    "\"\"\"\n",
    "\n",
    "function_inputs = [0.5,2*10**6,5*10**14] # Function inputs.\n",
    "\n",
    "def fitness_func(solution, solution_idx):\n",
    "    output = solution[0]*function_inputs[0] + solution[1]*function_inputs[1] + function_inputs[2]/((solution[0]**2)*solution[1] + 0.000001)\n",
    "    fitness = -output # or = 1.0/(output + 0.000001)\n",
    "    return fitness\n",
    "\n",
    "# AG parameters\n",
    "num_genes = len(function_inputs) - 1 # No of genes (decision variables)\n",
    "sol_per_pop = 50 # Number of solutions in the population, MATLAB default is 50\n",
    "init_range_low = 0 # Initial population gene value lower bound, MATLAB default is -10\n",
    "#init_range_high = 10 # Initial population gene value upper bound, MATLAB default is 10\n",
    "parent_selection_type=\"tournament\" # Roulette, tournament, stochastic, etc.\n",
    "keep_elitism = math.floor(0.05*sol_per_pop) # No of parents to remain in next generation, MATLAB default is 0.05*PopSize\n",
    "mutation_type=\"adaptive\" # Choose random or adaptive\n",
    "mutation_probability=[0.35, 0.05] # [high, low] if adaptive\n",
    "crossover_type=\"single_point\" # Choose single or two points\n",
    "#crossover_probability=0.8 # MATLAB default is 0.8 (?)\n",
    "num_parents_mating = math.floor(0.7*sol_per_pop) # Number of solutions to be selected as parents in the mating pool, # MATLAB default is 0.8 (?)\n",
    "gene_type=[[float, 2], [float, 6]] # Data type and (float) precision\n",
    "gene_space=[{'low': 10**4, 'high': 10**6}, {'low': 0, 'high': 10}] # Lower and upper bounds\n",
    "num_generations = 100*num_genes # Number of generations, MATLAB default is 100*(no of variables)\n",
    "\n",
    "stop_criteria=\"saturate_50\" # Stop after n generations of fitness saturation, MATLAB default is 50\n",
    "parallel_processing=None # [\"process\", sol_per_pop] or [\"thread\", sol_per_pop]\n",
    "random_seed=None # For reproducible results\n",
    "\n",
    "# Callback function\n",
    "last_fitness = 0\n",
    "def on_generation(ga_instance):\n",
    "    global last_fitness\n",
    "    print(\"Geração          = {generation}\".format(generation=ga_instance.generations_completed))\n",
    "    print(\"Melhor Avaliação = {fitness}\".format(fitness=ga_instance.best_solution(pop_fitness=ga_instance.last_generation_fitness)[1]))\n",
    "    print(\"Melhor Solução = {solution}\".format(solution=ga_instance.best_solution(pop_fitness=ga_instance.last_generation_fitness)[0]))\n",
    "    print(\"Mudança          = {change}\".format(change=ga_instance.best_solution(pop_fitness=ga_instance.last_generation_fitness)[1] - last_fitness))\n",
    "    last_fitness = ga_instance.best_solution(pop_fitness=ga_instance.last_generation_fitness)[1]\n",
    "\n",
    "def on_stop(ga_instance, last_population_fitness):\n",
    "    # Returning the details of the best solution.\n",
    "    solution, solution_fitness, solution_idx = ga_instance.best_solution(ga_instance.last_generation_fitness)\n",
    "    print(\"Parâmetros da melhor solução : {solution}\".format(solution=solution))\n",
    "    print(\"Valor da avaliação da melhor solução : {solution_fitness}\".format(solution_fitness=solution_fitness))\n",
    "    #print(\"Índice da melhor solução : {solution_idx}\".format(solution_idx=solution_idx))\n",
    "\n",
    "# Instantiate GA class\n",
    "ga_instance = pygad.GA(fitness_func=fitness_func,\n",
    "                       num_genes=num_genes,\n",
    "                       sol_per_pop=sol_per_pop,\n",
    "                       init_range_low=init_range_low,\n",
    "                       parent_selection_type=parent_selection_type,\n",
    "                       keep_elitism=keep_elitism,\n",
    "                       mutation_type=mutation_type,\n",
    "                       mutation_probability=mutation_probability,\n",
    "                       crossover_type=crossover_type,\n",
    "                       num_parents_mating=num_parents_mating,\n",
    "                       gene_type=gene_type,\n",
    "                       gene_space=gene_space,\n",
    "                       num_generations=num_generations,\n",
    "                       stop_criteria=stop_criteria,\n",
    "                       parallel_processing=parallel_processing,\n",
    "                       on_stop=on_stop,\n",
    "                       random_seed=random_seed)\n",
    "\n",
    "# Running the GA to optimize the parameters of the function.\n",
    "if __name__ == '__main__':\n",
    "    t1 = time.time()\n",
    "\n",
    "    ga_instance.run()\n",
    "\n",
    "    t2 = time.time()\n",
    "\n",
    "fig = ga_instance.plot_fitness(title=\"Resultado da FA por geração\", xlabel=\"Geração\", ylabel=\"Avaliação\", linewidth=3, plot_type=\"plot\")\n",
    "fig.savefig(\"C:/Users/joaog/Downloads/Graf.pdf\", format=\"pdf\", bbox_inches=\"tight\")\n",
    "\n",
    "#prediction = np.sum(solution*function_inputs[:2]) + function_inputs[2]/((solution[0]**2)*solution[1])\n",
    "#print(\"Predicted output based on the best solution : {prediction}\".format(prediction=prediction))\n",
    "\n",
    "if ga_instance.best_solution_generation != -1:\n",
    "    print(\"Melhor avaliação atingida após {best_solution_generation} gerações.\".format(best_solution_generation=ga_instance.best_solution_generation))\n",
    "print(\"Tempo de execução: {time} s\".format(time=(t2-t1)))\n",
    "    \n",
    "# Saving the GA instance.\n",
    "#filename = 'NLPRao' # The filename to which the instance is saved. The name is without extension.\n",
    "#ga_instance.save(filename=filename)\n",
    "\n",
    "# Loading the saved GA instance.\n",
    "#loaded_ga_instance = pygad.load(filename=filename)\n",
    "#loaded_ga_instance.plot_fitness()"
   ]
  },
  {
   "cell_type": "code",
   "execution_count": null,
   "id": "8e4c058a-0ba5-46e1-82ff-952b8ff4021d",
   "metadata": {},
   "outputs": [],
   "source": []
  }
 ],
 "metadata": {
  "kernelspec": {
   "display_name": "Python 3 (ipykernel)",
   "language": "python",
   "name": "python3"
  },
  "language_info": {
   "codemirror_mode": {
    "name": "ipython",
    "version": 3
   },
   "file_extension": ".py",
   "mimetype": "text/x-python",
   "name": "python",
   "nbconvert_exporter": "python",
   "pygments_lexer": "ipython3",
   "version": "3.10.4"
  }
 },
 "nbformat": 4,
 "nbformat_minor": 5
}
